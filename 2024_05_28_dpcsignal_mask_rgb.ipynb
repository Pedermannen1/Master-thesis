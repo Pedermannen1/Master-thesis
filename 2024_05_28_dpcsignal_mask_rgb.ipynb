{
 "cells": [
  {
   "cell_type": "code",
   "execution_count": 1,
   "id": "a03c61ff-0ede-4299-b140-f54fba72a983",
   "metadata": {},
   "outputs": [],
   "source": [
    "%matplotlib qt5"
   ]
  },
  {
   "cell_type": "code",
   "execution_count": 2,
   "id": "53b392b9-6397-4355-9add-c756510b777a",
   "metadata": {},
   "outputs": [],
   "source": [
    "import numpy as np"
   ]
  },
  {
   "cell_type": "code",
   "execution_count": 3,
   "id": "06facfec-1ff9-4921-b2d5-6895c2fa4175",
   "metadata": {},
   "outputs": [],
   "source": [
    "import matplotlib.pyplot as plt"
   ]
  },
  {
   "cell_type": "code",
   "execution_count": 4,
   "id": "eaf01f4a",
   "metadata": {},
   "outputs": [],
   "source": [
    "import hyperspy.api as hs"
   ]
  },
  {
   "cell_type": "code",
   "execution_count": 5,
   "id": "1d2fa431-0d7c-4afe-b5cb-6154f99851a4",
   "metadata": {},
   "outputs": [
    {
     "name": "stderr",
     "output_type": "stream",
     "text": [
      "WARNING:silx.opencl.common:Unable to import pyOpenCl. Please install it from: https://pypi.org/project/pyopencl\n"
     ]
    }
   ],
   "source": [
    "import pyxem as pxm"
   ]
  },
  {
   "cell_type": "code",
   "execution_count": 6,
   "id": "2f2ccf4a-2597-465c-9523-5009e5f43acb",
   "metadata": {},
   "outputs": [],
   "source": [
    "s = hs.load('001_3nm_55rot_512x512_tx16.zspy', lazy=True)"
   ]
  },
  {
   "cell_type": "code",
   "execution_count": 17,
   "id": "417a294f",
   "metadata": {},
   "outputs": [],
   "source": [
    "s.plot()"
   ]
  },
  {
   "cell_type": "code",
   "execution_count": 19,
   "id": "7c588cd5",
   "metadata": {},
   "outputs": [
    {
     "name": "stdout",
     "output_type": "stream",
     "text": [
      "[########################################] | 100% Completed | 1.52 sms\n"
     ]
    }
   ],
   "source": [
    "s_sum = s.sum(axis=(-1,-2))\n",
    "s_nav = s_sum.transpose()\n",
    "s_nav.compute()\n",
    "s.navigator = s_nav"
   ]
  },
  {
   "cell_type": "code",
   "execution_count": 23,
   "id": "6b427160",
   "metadata": {},
   "outputs": [],
   "source": [
    "s.plot()"
   ]
  },
  {
   "cell_type": "code",
   "execution_count": 21,
   "id": "ab252e1c",
   "metadata": {},
   "outputs": [],
   "source": [
    "s1 = s.isig[:,:]"
   ]
  },
  {
   "cell_type": "code",
   "execution_count": 22,
   "id": "626b53e5",
   "metadata": {},
   "outputs": [
    {
     "name": "stdout",
     "output_type": "stream",
     "text": [
      "[########################################] | 100% Completed | 522.81 ms\n"
     ]
    }
   ],
   "source": [
    "s1.plot()"
   ]
  },
  {
   "cell_type": "code",
   "execution_count": 24,
   "id": "42a55767",
   "metadata": {},
   "outputs": [
    {
     "name": "stdout",
     "output_type": "stream",
     "text": [
      "[                                        ] | 0% Completed | 855.90 us"
     ]
    },
    {
     "name": "stdout",
     "output_type": "stream",
     "text": [
      "[########################################] | 100% Completed | 1.07 sms\n",
      "[########################################] | 100% Completed | 12.47 s\n"
     ]
    }
   ],
   "source": [
    "s1.navigator = s_nav\n",
    "s1.compute()\n",
    "s1_com = s1.center_of_mass()\n",
    "s1_bs = s1_com.to_beamshift()\n"
   ]
  },
  {
   "cell_type": "code",
   "execution_count": 30,
   "id": "c863d0fc",
   "metadata": {},
   "outputs": [
    {
     "data": {
      "text/plain": [
       "<BeamShift, title: , dimensions: (513, 512|2)>"
      ]
     },
     "execution_count": 30,
     "metadata": {},
     "output_type": "execute_result"
    }
   ],
   "source": [
    "s1_bs"
   ]
  },
  {
   "cell_type": "code",
   "execution_count": 46,
   "id": "c2d5685f",
   "metadata": {},
   "outputs": [
    {
     "ename": "AttributeError",
     "evalue": "'DPCSignal2D' object has no attribute 'to_dpcsignal'",
     "output_type": "error",
     "traceback": [
      "\u001b[1;31m---------------------------------------------------------------------------\u001b[0m",
      "\u001b[1;31mAttributeError\u001b[0m                            Traceback (most recent call last)",
      "Cell \u001b[1;32mIn[46], line 1\u001b[0m\n\u001b[1;32m----> 1\u001b[0m s1_finished \u001b[38;5;241m=\u001b[39m \u001b[43ms1_com\u001b[49m\u001b[38;5;241;43m.\u001b[39;49m\u001b[43mto_dpcsignal\u001b[49m()\n",
      "\u001b[1;31mAttributeError\u001b[0m: 'DPCSignal2D' object has no attribute 'to_dpcsignal'"
     ]
    }
   ],
   "source": [
    "s1_finished = s1_com.to_dpcsignal()"
   ]
  },
  {
   "cell_type": "code",
   "execution_count": 31,
   "id": "db559957",
   "metadata": {},
   "outputs": [],
   "source": [
    "s1_finished.plot()"
   ]
  },
  {
   "cell_type": "code",
   "execution_count": 51,
   "id": "7944f0e1-3cfb-47ea-843a-2c1188a5e75f",
   "metadata": {},
   "outputs": [],
   "source": [
    "s_color = s1_com.get_color_signal(autolim_sigma=0.03)"
   ]
  },
  {
   "cell_type": "code",
   "execution_count": 52,
   "id": "4ca58100",
   "metadata": {},
   "outputs": [],
   "source": [
    "s_color.plot()"
   ]
  },
  {
   "cell_type": "code",
   "execution_count": 38,
   "id": "5857acbc-e21b-458d-9b29-2825f0f6677c",
   "metadata": {},
   "outputs": [],
   "source": [
    "s_color.change_dtype(\"uint16\")\n",
    "s_color.change_dtype(\"float64\")"
   ]
  },
  {
   "cell_type": "code",
   "execution_count": 39,
   "id": "daaa00c7-304e-4cb9-8f5c-1f125ac42e80",
   "metadata": {},
   "outputs": [],
   "source": [
    "data_rgb = s_color.data"
   ]
  },
  {
   "cell_type": "code",
   "execution_count": 40,
   "id": "6436fc14-ab08-424b-84fc-4073ea4c76cb",
   "metadata": {},
   "outputs": [],
   "source": [
    "data_mask = np.zeros(data_rgb.shape[0:2], dtype=bool)"
   ]
  },
  {
   "cell_type": "code",
   "execution_count": 41,
   "id": "25e5113d-edb0-41cb-8144-805ff9b30b3c",
   "metadata": {},
   "outputs": [],
   "source": [
    "data_mask[150:] = True"
   ]
  },
  {
   "cell_type": "code",
   "execution_count": 42,
   "id": "983f0bdc-c812-4559-beec-ae4123746f7f",
   "metadata": {},
   "outputs": [],
   "source": [
    "data_rgb[data_mask] = np.array([0., 0., 0.])"
   ]
  },
  {
   "cell_type": "code",
   "execution_count": 43,
   "id": "6da0aa70-3f94-4dcc-83c3-3314de0041ef",
   "metadata": {},
   "outputs": [],
   "source": [
    "extent = s.axes_manager.signal_extent\n",
    "extent = [extent[0], extent[1], extent[3], extent[2]]"
   ]
  },
  {
   "cell_type": "code",
   "execution_count": 44,
   "id": "a8a93529-fb56-472a-b363-07d18e3a54ae",
   "metadata": {},
   "outputs": [],
   "source": [
    "fig, ax = plt.subplots()"
   ]
  },
  {
   "cell_type": "code",
   "execution_count": 45,
   "id": "d7543cbc-bd53-445d-9b16-5b68551a5124",
   "metadata": {},
   "outputs": [
    {
     "data": {
      "text/plain": [
       "<matplotlib.image.AxesImage at 0x1f12b4cff50>"
      ]
     },
     "execution_count": 45,
     "metadata": {},
     "output_type": "execute_result"
    }
   ],
   "source": [
    "ax.imshow(data_rgb / 65536.0, extent=extent)"
   ]
  },
  {
   "cell_type": "code",
   "execution_count": null,
   "id": "e90f48ad",
   "metadata": {},
   "outputs": [],
   "source": []
  }
 ],
 "metadata": {
  "kernelspec": {
   "display_name": "Python 3 (ipykernel)",
   "language": "python",
   "name": "python3"
  },
  "language_info": {
   "codemirror_mode": {
    "name": "ipython",
    "version": 3
   },
   "file_extension": ".py",
   "mimetype": "text/x-python",
   "name": "python",
   "nbconvert_exporter": "python",
   "pygments_lexer": "ipython3",
   "version": "3.11.8"
  }
 },
 "nbformat": 4,
 "nbformat_minor": 5
}
