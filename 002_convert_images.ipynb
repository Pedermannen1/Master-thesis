{
 "cells": [
  {
   "cell_type": "code",
   "execution_count": 1,
   "metadata": {},
   "outputs": [],
   "source": [
    "%matplotlib qt5\n",
    "import hyperspy.api as hs"
   ]
  },
  {
   "cell_type": "code",
   "execution_count": 2,
   "metadata": {},
   "outputs": [
    {
     "name": "stderr",
     "output_type": "stream",
     "text": [
      "c:\\Users\\pstok\\anaconda3\\envs\\pyxem_stable\\Lib\\site-packages\\hyperspy\\io.py:597: PerformanceWarning: Reshaping is producing a large chunk. To accept the large\n",
      "chunk and silence this warning, set the option\n",
      "    >>> with dask.config.set(**{'array.slicing.split_large_chunks': False}):\n",
      "    ...     array.reshape(shape)\n",
      "\n",
      "To avoid creating the large chunks, set the option\n",
      "    >>> with dask.config.set(**{'array.slicing.split_large_chunks': True}):\n",
      "    ...     array.reshape(shape)Explictly passing ``limit`` to ``reshape`` will also silence this warning\n",
      "    >>> array.reshape(shape, limit='128 MiB')\n",
      "  return load_with_reader(filename=filename, reader=reader, **kwds)\n",
      "WARNING:silx.opencl.common:Unable to import pyOpenCl. Please install it from: https://pypi.org/project/pyopencl\n"
     ]
    },
    {
     "name": "stdout",
     "output_type": "stream",
     "text": [
      "[########################################] | 100% Completed | 11.48 ss\n",
      "[########################################] | 100% Completed | 42.52 s\n"
     ]
    }
   ],
   "source": [
    "s = hs.load('20240512_161129/1length_uten_ramme.mib', lazy=True)\n",
    "s1 = s.sum(axis=(-1,-2))\n",
    "s1.compute()\n",
    "s.change_dtype('uint16', rechunk=False)\n",
    "s.save('1length_uten_ramme.zspy', chunks=(64,64,64,64))"
   ]
  },
  {
   "cell_type": "code",
   "execution_count": 3,
   "metadata": {},
   "outputs": [
    {
     "name": "stdout",
     "output_type": "stream",
     "text": [
      "[                                        ] | 0% Completed | 17.11 ms"
     ]
    },
    {
     "name": "stderr",
     "output_type": "stream",
     "text": [
      "c:\\Users\\pstok\\anaconda3\\envs\\pyxem_stable\\Lib\\site-packages\\hyperspy\\io.py:597: PerformanceWarning: Reshaping is producing a large chunk. To accept the large\n",
      "chunk and silence this warning, set the option\n",
      "    >>> with dask.config.set(**{'array.slicing.split_large_chunks': False}):\n",
      "    ...     array.reshape(shape)\n",
      "\n",
      "To avoid creating the large chunks, set the option\n",
      "    >>> with dask.config.set(**{'array.slicing.split_large_chunks': True}):\n",
      "    ...     array.reshape(shape)Explictly passing ``limit`` to ``reshape`` will also silence this warning\n",
      "    >>> array.reshape(shape, limit='128 MiB')\n",
      "  return load_with_reader(filename=filename, reader=reader, **kwds)\n"
     ]
    },
    {
     "name": "stdout",
     "output_type": "stream",
     "text": [
      "[########################################] | 100% Completed | 11.66 ss\n",
      "[########################################] | 100% Completed | 49.54 s\n"
     ]
    }
   ],
   "source": [
    "s = hs.load('20240512_161745/4length_uten_ramme.mib', lazy=True)\n",
    "s1 = s.sum(axis=(-1,-2))\n",
    "s1.compute()\n",
    "s.change_dtype('uint16', rechunk=False)\n",
    "s.save('4length_uten_ramme.zspy', chunks=(64,64,64,64))"
   ]
  },
  {
   "cell_type": "code",
   "execution_count": 4,
   "metadata": {},
   "outputs": [
    {
     "name": "stdout",
     "output_type": "stream",
     "text": [
      "[                                        ] | 0% Completed | 19.85 ms"
     ]
    },
    {
     "name": "stderr",
     "output_type": "stream",
     "text": [
      "c:\\Users\\pstok\\anaconda3\\envs\\pyxem_stable\\Lib\\site-packages\\hyperspy\\io.py:597: PerformanceWarning: Reshaping is producing a large chunk. To accept the large\n",
      "chunk and silence this warning, set the option\n",
      "    >>> with dask.config.set(**{'array.slicing.split_large_chunks': False}):\n",
      "    ...     array.reshape(shape)\n",
      "\n",
      "To avoid creating the large chunks, set the option\n",
      "    >>> with dask.config.set(**{'array.slicing.split_large_chunks': True}):\n",
      "    ...     array.reshape(shape)Explictly passing ``limit`` to ``reshape`` will also silence this warning\n",
      "    >>> array.reshape(shape, limit='128 MiB')\n",
      "  return load_with_reader(filename=filename, reader=reader, **kwds)\n"
     ]
    },
    {
     "name": "stdout",
     "output_type": "stream",
     "text": [
      "[########################################] | 100% Completed | 15.13 ss\n",
      "[########################################] | 100% Completed | 47.59 s\n"
     ]
    }
   ],
   "source": [
    "s = hs.load('20240512_162403/4length_med_ramme.mib', lazy=True)\n",
    "s1 = s.sum(axis=(-1,-2))\n",
    "s1.compute()\n",
    "s.change_dtype('uint16', rechunk=False)\n",
    "s.save('4length_med_ramme.zspy', chunks=(64,64,64,64))"
   ]
  },
  {
   "cell_type": "code",
   "execution_count": 5,
   "metadata": {},
   "outputs": [
    {
     "name": "stdout",
     "output_type": "stream",
     "text": [
      "[                                        ] | 0% Completed | 18.72 ms"
     ]
    },
    {
     "name": "stderr",
     "output_type": "stream",
     "text": [
      "c:\\Users\\pstok\\anaconda3\\envs\\pyxem_stable\\Lib\\site-packages\\hyperspy\\io.py:597: PerformanceWarning: Reshaping is producing a large chunk. To accept the large\n",
      "chunk and silence this warning, set the option\n",
      "    >>> with dask.config.set(**{'array.slicing.split_large_chunks': False}):\n",
      "    ...     array.reshape(shape)\n",
      "\n",
      "To avoid creating the large chunks, set the option\n",
      "    >>> with dask.config.set(**{'array.slicing.split_large_chunks': True}):\n",
      "    ...     array.reshape(shape)Explictly passing ``limit`` to ``reshape`` will also silence this warning\n",
      "    >>> array.reshape(shape, limit='128 MiB')\n",
      "  return load_with_reader(filename=filename, reader=reader, **kwds)\n"
     ]
    },
    {
     "name": "stdout",
     "output_type": "stream",
     "text": [
      "[########################################] | 100% Completed | 15.08 ss\n",
      "[########################################] | 100% Completed | 48.44 s\n"
     ]
    }
   ],
   "source": [
    "s = hs.load('20240512_163341/3length_med_ramme.mib', lazy=True)\n",
    "s1 = s.sum(axis=(-1,-2))\n",
    "s1.compute()\n",
    "s.change_dtype('uint16', rechunk=False)\n",
    "s.save('3length_med_ramme.zspy', chunks=(64,64,64,64))\n"
   ]
  },
  {
   "cell_type": "code",
   "execution_count": 6,
   "metadata": {},
   "outputs": [
    {
     "name": "stdout",
     "output_type": "stream",
     "text": [
      "[                                        ] | 0% Completed | 20.07 ms"
     ]
    },
    {
     "name": "stderr",
     "output_type": "stream",
     "text": [
      "c:\\Users\\pstok\\anaconda3\\envs\\pyxem_stable\\Lib\\site-packages\\hyperspy\\io.py:597: PerformanceWarning: Reshaping is producing a large chunk. To accept the large\n",
      "chunk and silence this warning, set the option\n",
      "    >>> with dask.config.set(**{'array.slicing.split_large_chunks': False}):\n",
      "    ...     array.reshape(shape)\n",
      "\n",
      "To avoid creating the large chunks, set the option\n",
      "    >>> with dask.config.set(**{'array.slicing.split_large_chunks': True}):\n",
      "    ...     array.reshape(shape)Explictly passing ``limit`` to ``reshape`` will also silence this warning\n",
      "    >>> array.reshape(shape, limit='128 MiB')\n",
      "  return load_with_reader(filename=filename, reader=reader, **kwds)\n"
     ]
    },
    {
     "name": "stdout",
     "output_type": "stream",
     "text": [
      "[########################################] | 100% Completed | 13.38 ss\n",
      "[########################################] | 100% Completed | 41.26 s\n"
     ]
    }
   ],
   "source": [
    "s = hs.load('20240512_163913/3length_uten_ramme.mib', lazy=True)\n",
    "s1 = s.sum(axis=(-1,-2))\n",
    "s1.compute()\n",
    "s.change_dtype('uint16', rechunk=False)\n",
    "s.save('3length_uten_ramme.zspy', chunks=(64,64,64,64))"
   ]
  },
  {
   "cell_type": "code",
   "execution_count": 7,
   "metadata": {},
   "outputs": [
    {
     "name": "stdout",
     "output_type": "stream",
     "text": [
      "[                                        ] | 0% Completed | 17.69 ms"
     ]
    },
    {
     "name": "stderr",
     "output_type": "stream",
     "text": [
      "c:\\Users\\pstok\\anaconda3\\envs\\pyxem_stable\\Lib\\site-packages\\hyperspy\\io.py:597: PerformanceWarning: Reshaping is producing a large chunk. To accept the large\n",
      "chunk and silence this warning, set the option\n",
      "    >>> with dask.config.set(**{'array.slicing.split_large_chunks': False}):\n",
      "    ...     array.reshape(shape)\n",
      "\n",
      "To avoid creating the large chunks, set the option\n",
      "    >>> with dask.config.set(**{'array.slicing.split_large_chunks': True}):\n",
      "    ...     array.reshape(shape)Explictly passing ``limit`` to ``reshape`` will also silence this warning\n",
      "    >>> array.reshape(shape, limit='128 MiB')\n",
      "  return load_with_reader(filename=filename, reader=reader, **kwds)\n"
     ]
    },
    {
     "name": "stdout",
     "output_type": "stream",
     "text": [
      "[########################################] | 100% Completed | 15.23 ss\n",
      "[########################################] | 100% Completed | 47.23 s\n"
     ]
    }
   ],
   "source": [
    "s = hs.load('20240512_164503/2length_med_ramme.mib', lazy=True)\n",
    "s1 = s.sum(axis=(-1,-2))\n",
    "s1.compute()\n",
    "s.change_dtype('uint16', rechunk=False)\n",
    "s.save('2length_med_ramme.zspy', chunks=(64,64,64,64))"
   ]
  },
  {
   "cell_type": "code",
   "execution_count": 8,
   "metadata": {},
   "outputs": [
    {
     "name": "stdout",
     "output_type": "stream",
     "text": [
      "[                                        ] | 0% Completed | 20.87 ms"
     ]
    },
    {
     "name": "stderr",
     "output_type": "stream",
     "text": [
      "c:\\Users\\pstok\\anaconda3\\envs\\pyxem_stable\\Lib\\site-packages\\hyperspy\\io.py:597: PerformanceWarning: Reshaping is producing a large chunk. To accept the large\n",
      "chunk and silence this warning, set the option\n",
      "    >>> with dask.config.set(**{'array.slicing.split_large_chunks': False}):\n",
      "    ...     array.reshape(shape)\n",
      "\n",
      "To avoid creating the large chunks, set the option\n",
      "    >>> with dask.config.set(**{'array.slicing.split_large_chunks': True}):\n",
      "    ...     array.reshape(shape)Explictly passing ``limit`` to ``reshape`` will also silence this warning\n",
      "    >>> array.reshape(shape, limit='128 MiB')\n",
      "  return load_with_reader(filename=filename, reader=reader, **kwds)\n"
     ]
    },
    {
     "name": "stdout",
     "output_type": "stream",
     "text": [
      "[########################################] | 100% Completed | 17.31 ss\n",
      "[########################################] | 100% Completed | 52.10 s\n"
     ]
    }
   ],
   "source": [
    "s = hs.load('20240512_165024/2length_uten_ramme.mib', lazy=True)\n",
    "s1 = s.sum(axis=(-1,-2))\n",
    "s1.compute()\n",
    "s.change_dtype('uint16', rechunk=False)\n",
    "s.save('2length_uten_ramme.zspy', chunks=(64,64,64,64))"
   ]
  },
  {
   "cell_type": "code",
   "execution_count": 9,
   "metadata": {},
   "outputs": [
    {
     "name": "stdout",
     "output_type": "stream",
     "text": [
      "[                                        ] | 0% Completed | 19.45 ms"
     ]
    },
    {
     "name": "stderr",
     "output_type": "stream",
     "text": [
      "c:\\Users\\pstok\\anaconda3\\envs\\pyxem_stable\\Lib\\site-packages\\hyperspy\\io.py:597: PerformanceWarning: Reshaping is producing a large chunk. To accept the large\n",
      "chunk and silence this warning, set the option\n",
      "    >>> with dask.config.set(**{'array.slicing.split_large_chunks': False}):\n",
      "    ...     array.reshape(shape)\n",
      "\n",
      "To avoid creating the large chunks, set the option\n",
      "    >>> with dask.config.set(**{'array.slicing.split_large_chunks': True}):\n",
      "    ...     array.reshape(shape)Explictly passing ``limit`` to ``reshape`` will also silence this warning\n",
      "    >>> array.reshape(shape, limit='128 MiB')\n",
      "  return load_with_reader(filename=filename, reader=reader, **kwds)\n"
     ]
    },
    {
     "name": "stdout",
     "output_type": "stream",
     "text": [
      "[########################################] | 100% Completed | 16.83 ss\n",
      "[########################################] | 100% Completed | 52.77 s\n"
     ]
    }
   ],
   "source": [
    "s = hs.load('20240512_165735/1length_uten_ramme_en_time_senere.mib', lazy=True)\n",
    "s1 = s.sum(axis=(-1,-2))\n",
    "s1.compute()\n",
    "s.change_dtype('uint16', rechunk=False)\n",
    "s.save('1length_uten_ramme_en_time_senere.zspy', chunks=(64,64,64,64))"
   ]
  }
 ],
 "metadata": {
  "kernelspec": {
   "display_name": "pyxem_stable",
   "language": "python",
   "name": "python3"
  },
  "language_info": {
   "codemirror_mode": {
    "name": "ipython",
    "version": 3
   },
   "file_extension": ".py",
   "mimetype": "text/x-python",
   "name": "python",
   "nbconvert_exporter": "python",
   "pygments_lexer": "ipython3",
   "version": "3.11.8"
  }
 },
 "nbformat": 4,
 "nbformat_minor": 2
}
