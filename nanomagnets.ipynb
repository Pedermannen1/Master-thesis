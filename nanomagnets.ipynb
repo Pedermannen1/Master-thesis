{
 "cells": [
  {
   "cell_type": "code",
   "execution_count": 336,
   "metadata": {},
   "outputs": [],
   "source": [
    "%matplotlib qt5\n",
    "import hyperspy.api as hs\n",
    "import numpy as np\n",
    "import matplotlib.pyplot as plt\n",
    "from skimage import transform\n",
    "import scipy\n",
    "\n",
    "#### Skriv i master at jeg kan ha multidomener, men har ikke tatt hensyn til dette i prosesseringen. "
   ]
  },
  {
   "cell_type": "code",
   "execution_count": 337,
   "metadata": {},
   "outputs": [],
   "source": [
    "def transform_to_ASI(data, corners, shape=(512,512)):\n",
    "    src_points = np.array([\n",
    "        [corners[0][0] + 2, corners[0][1] + 2],\n",
    "        [corners[1][0] - 2, corners[1][1] + 2],\n",
    "        [corners[2][0] + 2, corners[2][1] - 2],\n",
    "        [corners[3][0] - 2, corners[3][1] - 2]\n",
    "    ])\n",
    "\n",
    "    dst_points = np.array([\n",
    "        [  0,   0],\n",
    "        [512,   0],\n",
    "        [  0, 512],\n",
    "        [512, 512]\n",
    "    ])\n",
    "\n",
    "    tform = transform.ProjectiveTransform()\n",
    "    tform.estimate(src_points, dst_points)\n",
    "    transformed_image = transform.warp(data, tform.inverse, output_shape=shape)\n",
    "\n",
    "    return transformed_image\n",
    "    "
   ]
  },
  {
   "cell_type": "code",
   "execution_count": 338,
   "metadata": {},
   "outputs": [],
   "source": [
    "def rgb_to_hsv_pixel(r, g, b):\n",
    "\n",
    "    maxc = max(r, g, b)\n",
    "    minc = min(r, g, b)\n",
    "    v = maxc\n",
    "    s = (maxc - minc) / maxc if maxc != 0 else 0\n",
    "\n",
    "    if maxc == minc:\n",
    "        h = 0\n",
    "    elif maxc == r:\n",
    "        h = (60 * ((g - b) / (maxc - minc)) + 360) % 360\n",
    "    elif maxc == g:\n",
    "        h = (60 * ((b - r) / (maxc - minc)) + 120) % 360\n",
    "    elif maxc == b:\n",
    "        h = (60 * ((r - g) / (maxc - minc)) + 240) % 360\n",
    "    \n",
    "    return h, s, v"
   ]
  },
  {
   "cell_type": "code",
   "execution_count": 339,
   "metadata": {},
   "outputs": [],
   "source": [
    "def rgb_to_hsv_image(rgb):\n",
    "    \n",
    "    h_channel = np.zeros((rgb.shape[0], rgb.shape[1]))\n",
    "    s_channel = np.zeros((rgb.shape[0], rgb.shape[1]))\n",
    "    v_channel = np.zeros((rgb.shape[0], rgb.shape[1]))\n",
    "\n",
    "    for i in range(rgb.shape[0]):\n",
    "        for j in range(rgb.shape[1]):\n",
    "            r, g, b = rgb[i, j]\n",
    "            h, s, v = rgb_to_hsv_pixel(r, g, b)\n",
    "            h_channel[i, j] = h\n",
    "            s_channel[i, j] = s\n",
    "            v_channel[i, j] = v\n",
    "\n",
    "    hsv = np.stack((h_channel, s_channel, v_channel), axis=-1)\n",
    "    \n",
    "    return hsv"
   ]
  },
  {
   "cell_type": "code",
   "execution_count": 340,
   "metadata": {},
   "outputs": [],
   "source": [
    "def group_islands(transformed_image):\n",
    "    black_pixel_threshold = 0.01  # Define a threshold for considering a pixel as black\n",
    "    mask = np.all(transformed_image < black_pixel_threshold, axis=-1)\n",
    "\n",
    "    # Invert the mask to get non-black pixels as 1\n",
    "    mask = ~mask\n",
    "\n",
    "    # Step 4: Label the connected components \n",
    "    # labeled_array is the \"wrong way\". that is, y, x = labeled_array\n",
    "    labeled_array, num_features = scipy.ndimage.label(mask)\n",
    "\n",
    "    # Step 5: Calculate the centroids of each island\n",
    "    centroids = scipy.ndimage.center_of_mass(mask, labeled_array, range(1, num_features + 1))\n",
    "    return labeled_array, centroids, num_features"
   ]
  },
  {
   "cell_type": "code",
   "execution_count": 341,
   "metadata": {},
   "outputs": [],
   "source": [
    "def remove_outer_layers(labeled_islands, num_islands, layers=2):\n",
    "    # Create a mask for all islands\n",
    "    mask = labeled_islands > 0\n",
    "\n",
    "    # Perform binary erosion twice to remove two layers\n",
    "    eroded_mask = mask.copy()\n",
    "    for _ in range(layers):\n",
    "        eroded_mask = scipy.ndimage.binary_erosion(eroded_mask)\n",
    "\n",
    "    # Create a new labeled array for the eroded islands\n",
    "    eroded_labeled_islands, new_num_islands = scipy.ndimage.label(eroded_mask)\n",
    "\n",
    "    # Map the original labels to the new eroded labels\n",
    "    new_labeled_islands = np.zeros_like(labeled_islands)\n",
    "    for original_label in range(1, num_islands + 1):\n",
    "        original_island_mask = labeled_islands == original_label\n",
    "        eroded_island_mask = np.logical_and(original_island_mask, eroded_mask)\n",
    "        if np.any(eroded_island_mask):\n",
    "            new_label = eroded_labeled_islands[eroded_island_mask][0]\n",
    "            new_labeled_islands[eroded_island_mask] = new_label\n",
    "\n",
    "    return new_labeled_islands, new_num_islands"
   ]
  },
  {
   "cell_type": "code",
   "execution_count": 342,
   "metadata": {},
   "outputs": [],
   "source": [
    "def find_average_magnetisation(rgb, labeled_islands, num_islands):\n",
    "    # List to store the average hue of each island\n",
    "    average_magnetisation = []\n",
    "\n",
    "    # Iterate through each island\n",
    "    for label in range(1, num_islands + 1):\n",
    "        # Mask for the current island\n",
    "        island_mask = labeled_islands == label\n",
    "\n",
    "        # Extract the RGB values for the current island\n",
    "        island_pixels_rgb = rgb[island_mask]\n",
    "\n",
    "        # Convert the RGB values to HSV values\n",
    "        island_pixels_hsv = np.array([rgb_to_hsv_pixel(rgb[0], rgb[1], rgb[2]) for rgb in island_pixels_rgb])\n",
    "\n",
    "        # Extract the H (hue) values from the HSV values\n",
    "        h_values = island_pixels_hsv[:, 0]\n",
    "\n",
    "        # Calculate the average hue for the current island\n",
    "        h_average = average_hsv_pixels(island_pixels_hsv)\n",
    "\n",
    "        # Store the average hue\n",
    "        average_magnetisation.append(h_average)\n",
    "\n",
    "    return average_magnetisation\n",
    "\n"
   ]
  },
  {
   "cell_type": "code",
   "execution_count": 343,
   "metadata": {},
   "outputs": [],
   "source": [
    "def horizontal_or_vertical_array(num_islands, width):\n",
    "    # width is the number of horizontal islands, length is the number of vertical islands\n",
    "    pattern = np.array([1]*width + [0]*(width+1))\n",
    "\n",
    "    # Repeat the pattern to achieve the desired length\n",
    "    repeated_pattern = np.tile(pattern, (num_islands // len(pattern)) + 1)[:num_islands]\n",
    "\n",
    "    return repeated_pattern"
   ]
  },
  {
   "cell_type": "code",
   "execution_count": 344,
   "metadata": {},
   "outputs": [],
   "source": [
    "def make_quaternary_magnetisation(average_magnetisation, width):\n",
    "    quaternary_values = []\n",
    "    # Must change this to match the actual value\n",
    "    horizontal = horizontal_or_vertical_array(len(average_magnetisation), width)\n",
    "    for i in range(len(average_magnetisation)):\n",
    "\n",
    "        # Determine the quaternary value based on the given ranges\n",
    "        if (250 <= average_magnetisation[i] or average_magnetisation[i] < 70) and horizontal[i] == 1:\n",
    "            quaternary_values.append(0)\n",
    "        elif (340 <= average_magnetisation[i] or average_magnetisation[i] < 160) and horizontal[i] == 0:\n",
    "            quaternary_values.append(1)\n",
    "        elif (70 <= average_magnetisation[i] < 250) and horizontal[i] == 1:\n",
    "            quaternary_values.append(2)\n",
    "        elif (160 <= average_magnetisation[i] < 340) and horizontal[i] == 0:\n",
    "            quaternary_values.append(3)\n",
    "    \n",
    "    return quaternary_values"
   ]
  },
  {
   "cell_type": "code",
   "execution_count": 345,
   "metadata": {},
   "outputs": [],
   "source": [
    "def draw_arrows(centre_positions, magnetisation_directions, filename):\n",
    "    # Create a new plot\n",
    "    fig, ax = plt.subplots()\n",
    "\n",
    "    # Define the arrow properties with larger and wider arrows\n",
    "    arrow_props = {\n",
    "        0: {'dx': -10, 'dy': 0, 'color': 'red'},         # Pointing right\n",
    "        1: {'dx': 0, 'dy': 10, 'color': 'green'},         # Pointing up\n",
    "        2: {'dx': 10, 'dy': 0, 'color': 'turquoise'},      # Pointing left\n",
    "        3: {'dx': 0, 'dy': -10, 'color': 'purple'}        # Pointing down\n",
    "    }\n",
    "\n",
    "    # Define head width and length\n",
    "    head_width = 6\n",
    "    head_length = 6\n",
    "\n",
    "\n",
    "    # Iterate over the positions and corresponding magnetisation directions\n",
    "    for (y, x), direction in zip(centre_positions, magnetisation_directions):\n",
    "        # Get the arrow properties based on the direction\n",
    "        props = arrow_props[direction]\n",
    "\n",
    "        # Calculate the total length of the arrow (body + head)\n",
    "        total_length_x = props['dx'] + (head_length if props['dx'] != 0 else 0)\n",
    "        total_length_y = props['dy'] + (head_length if props['dy'] != 0 else 0)\n",
    "\n",
    "        # Calculate the starting point so the entire arrow is centered\n",
    "        start_x = x - total_length_x / 2 \n",
    "        start_y = y - total_length_y / 2\n",
    "        if direction == 0:\n",
    "            start_x = start_x\n",
    "        elif direction == 1:\n",
    "            start_y = start_y\n",
    "            start_x -= head_length\n",
    "        elif direction == 2:\n",
    "            start_x -= head_length\n",
    "        elif direction == 3:\n",
    "            start_y += head_length\n",
    "            start_x -= head_length\n",
    "\n",
    "    \n",
    "        # Draw the arrow with larger head width, head length, and shaft width\n",
    "        ax.arrow(start_x, start_y, props['dx'], props['dy'], head_width=head_width, head_length=head_length, width=2, fc=props['color'], ec=props['color'])\n",
    "\n",
    "\n",
    "    # Set the aspect of the plot to be equal\n",
    "    ax.set_aspect('equal')\n",
    "\n",
    "    ax.set_xticks([])\n",
    "    ax.set_yticks([])\n",
    "\n",
    "    #fig.savefig(f\"{filename}.pdf\", bbox_inches='tight')\n",
    "\n",
    "    # Display the plot\n",
    "    plt.show()"
   ]
  },
  {
   "cell_type": "code",
   "execution_count": 346,
   "metadata": {},
   "outputs": [],
   "source": [
    "def average_hsv_pixels(hsv_pixels):\n",
    "    \"\"\"\n",
    "    Calculate the average of an array of HSV pixels.\n",
    "    \n",
    "    Args:\n",
    "    hsv_pixels (list of tuples or np.ndarray): Array of HSV pixels (each pixel is a tuple of hue in degrees, saturation, value).\n",
    "    \n",
    "    Returns:\n",
    "    tuple: The average HSV pixel.\n",
    "    \"\"\"\n",
    "    hsv_pixels = np.array(hsv_pixels)\n",
    "    \n",
    "    # Separate the Hue, Saturation, and Value components\n",
    "    hues = hsv_pixels[:, 0]\n",
    "\n",
    "    # Convert Hue from degrees to radians\n",
    "    hues_rad = np.deg2rad(hues)\n",
    "    \n",
    "    # Convert Hue to unit vectors\n",
    "    x_components = np.cos(hues_rad)\n",
    "    y_components = np.sin(hues_rad)\n",
    "    \n",
    "    # Sum the unit vectors\n",
    "    x_avg = np.sum(x_components) / len(hsv_pixels)\n",
    "    y_avg = np.sum(y_components) / len(hsv_pixels)\n",
    "    \n",
    "    # Calculate the average Hue from the unit vectors\n",
    "    avg_h_rad = np.arctan2(y_avg, x_avg)\n",
    "    avg_h_deg = np.rad2deg(avg_h_rad) % 360\n",
    "    \n",
    "    return avg_h_deg\n"
   ]
  },
  {
   "cell_type": "code",
   "execution_count": 347,
   "metadata": {},
   "outputs": [
    {
     "data": {
      "text/plain": [
       "<matplotlib.image.AxesImage at 0x24d9f96af90>"
      ]
     },
     "execution_count": 347,
     "metadata": {},
     "output_type": "execute_result"
    }
   ],
   "source": [
    "with open('corners_data/015_2c6nm_0rot_512x512_4length_30min_1c4_corners.npy', 'rb') as f:\n",
    "    corners = np.load(f)\n",
    "with open('images_data/015_2c6nm_0rot_512x512_4length_30min_1c4.npy', 'rb') as f:\n",
    "    rgb = np.load(f)\n",
    "transformed_image = transform_to_ASI(rgb, corners, shape=(512, 512))\n",
    "fig, ax = plt.subplots()\n",
    "ax.imshow(np.flipud(transformed_image))"
   ]
  },
  {
   "cell_type": "code",
   "execution_count": 348,
   "metadata": {},
   "outputs": [],
   "source": [
    "labeled_islands, centres_islands, num_islands = group_islands(transformed_image)\n",
    "labeled_islands, num_islands = remove_outer_layers(labeled_islands, num_islands, layers=3)"
   ]
  },
  {
   "cell_type": "code",
   "execution_count": 349,
   "metadata": {},
   "outputs": [
    {
     "data": {
      "text/plain": [
       "\"with open('015_2c6nm_0rot_512x512_4length_30min_1c4_magnet_centres.npy', 'wb') as f:\\n    np.save(f, centres_islands)\""
      ]
     },
     "execution_count": 349,
     "metadata": {},
     "output_type": "execute_result"
    }
   ],
   "source": [
    "\"\"\"with open('015_2c6nm_0rot_512x512_4length_30min_1c4_magnet_centres.npy', 'wb') as f:\n",
    "    np.save(f, centres_islands)\"\"\""
   ]
  },
  {
   "cell_type": "code",
   "execution_count": 350,
   "metadata": {},
   "outputs": [],
   "source": [
    "avg_mag = find_average_magnetisation(transformed_image, labeled_islands, num_islands)\n",
    "quartenary = make_quaternary_magnetisation(avg_mag, 13)\n",
    "draw_arrows(centres_islands, quartenary, '015_2c6nm_0rot_512x512_4length_30min_1c4')"
   ]
  },
  {
   "cell_type": "code",
   "execution_count": 351,
   "metadata": {},
   "outputs": [
    {
     "data": {
      "text/plain": [
       "\"with open('015_2c6nm_0rot_512x512_4length_30min_1c4_quartenary_magnetisation.npy', 'wb') as f:\\n    np.save(f, quartenary)\""
      ]
     },
     "execution_count": 351,
     "metadata": {},
     "output_type": "execute_result"
    }
   ],
   "source": [
    "\"\"\"with open('015_2c6nm_0rot_512x512_4length_30min_1c4_quartenary_magnetisation.npy', 'wb') as f:\n",
    "    np.save(f, quartenary)\"\"\""
   ]
  },
  {
   "cell_type": "code",
   "execution_count": 352,
   "metadata": {},
   "outputs": [
    {
     "data": {
      "text/plain": [
       "\"def plot_color_wheel():\\n    fig, ax = plt.subplots(figsize=(8, 8), subplot_kw=dict(polar=True))\\n    ax.set_theta_offset(np.pi / 2)\\n    ax.set_theta_direction(-1)\\n    \\n    hues = np.linspace(0, 360, 360)\\n    for h in hues:\\n        ax.bar(np.deg2rad(h), 1, color=plt.cm.hsv(h / 360), edgecolor='none')\\n    \\n    ax.set_yticklabels([])\\n    ax.set_xticks(np.deg2rad(np.arange(0, 360, 30)))\\n    ax.set_xticklabels([f'{int(angle)}°' for angle in np.arange(0, 360, 30)])\\n    \\n    plt.show()\\n\\n# Call the function to plot the color wheel\\nplot_color_wheel()\""
      ]
     },
     "execution_count": 352,
     "metadata": {},
     "output_type": "execute_result"
    }
   ],
   "source": [
    "\"\"\"def plot_color_wheel():\n",
    "    fig, ax = plt.subplots(figsize=(8, 8), subplot_kw=dict(polar=True))\n",
    "    ax.set_theta_offset(np.pi / 2)\n",
    "    ax.set_theta_direction(-1)\n",
    "    \n",
    "    hues = np.linspace(0, 360, 360)\n",
    "    for h in hues:\n",
    "        ax.bar(np.deg2rad(h), 1, color=plt.cm.hsv(h / 360), edgecolor='none')\n",
    "    \n",
    "    ax.set_yticklabels([])\n",
    "    ax.set_xticks(np.deg2rad(np.arange(0, 360, 30)))\n",
    "    ax.set_xticklabels([f'{int(angle)}°' for angle in np.arange(0, 360, 30)])\n",
    "    \n",
    "    plt.show()\n",
    "\n",
    "# Call the function to plot the color wheel\n",
    "plot_color_wheel()\"\"\""
   ]
  },
  {
   "cell_type": "code",
   "execution_count": null,
   "metadata": {},
   "outputs": [],
   "source": []
  }
 ],
 "metadata": {
  "kernelspec": {
   "display_name": "pyxem_stable",
   "language": "python",
   "name": "python3"
  },
  "language_info": {
   "codemirror_mode": {
    "name": "ipython",
    "version": 3
   },
   "file_extension": ".py",
   "mimetype": "text/x-python",
   "name": "python",
   "nbconvert_exporter": "python",
   "pygments_lexer": "ipython3",
   "version": "3.11.8"
  }
 },
 "nbformat": 4,
 "nbformat_minor": 2
}
